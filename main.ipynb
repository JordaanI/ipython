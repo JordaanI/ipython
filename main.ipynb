{
 "cells": [
  {
   "cell_type": "code",
   "execution_count": 7,
   "metadata": {},
   "outputs": [],
   "source": [
    "from IPython.display import clear_output\n",
    "from matplotlib import pyplot as plt\n",
    "import numpy as np\n",
    "%matplotlib inline\n",
    "np.seterr(divide='ignore')\n",
    "\n",
    "def live_plot(data_dict, figsize=(7,5), title=''):\n",
    "    clear_output(wait=True)\n",
    "    plt.figure(figsize=figsize)\n",
    "    for label,data in data_dict.items():\n",
    "        plt.plot(data, label=label)\n",
    "    plt.title(title)\n",
    "    plt.grid(True)\n",
    "    plt.xlabel('epoch')\n",
    "    plt.legend(loc='center left') # the plot evolves to the right\n",
    "    plt.show();\n",
    "\n",
    "error = {   \n",
    "        'TE01':'Type Error: Requires format = iterble of size 2',\n",
    "        'TE02':'Type Error: Requires format = float',\n",
    "        'VE01':'Value Error: Distance has a value of 0'\n",
    "        }\n",
    "\n",
    "\n",
    "class ball():\n",
    "    def __init__(self, position = tuple, velocity = tuple, mass = float) -> None:\n",
    "        if len(position) != 2:\n",
    "            raise TypeError(error['TE01'])\n",
    "        else:\n",
    "            self._position = np.array(position)\n",
    "        if len(position) != 2:\n",
    "            raise TypeError(error['TE01'])\n",
    "        else:\n",
    "            self._velocity = np.array(velocity)\n",
    "        if type(mass) == float or type(mass) == int:\n",
    "            self._mass = float(mass)\n",
    "        else:\n",
    "            raise TypeError(error['TE02'])\n",
    "\n",
    "    @property\n",
    "    def position(self):\n",
    "        return self._position\n",
    "    \n",
    "    @position.setter\n",
    "    def position(self, position = tuple):\n",
    "        if len(position) != 2:\n",
    "            raise TypeError(error['TE01'])\n",
    "        else:\n",
    "            self._position = np.array(position)\n",
    "\n",
    "    @property\n",
    "    def velocity(self):\n",
    "        return self._velocity\n",
    "\n",
    "    @velocity.setter\n",
    "    def velocity(self, velocity = tuple):\n",
    "        if len(velocity) != 2:\n",
    "            raise TypeError(error['TE01'])\n",
    "        else:\n",
    "            self._velocity = np.array(velocity)               \n",
    "    \n",
    "    @property\n",
    "    def mass(self):\n",
    "        return self._mass\n",
    "\n",
    "    @mass.setter\n",
    "    def mass(self, mass):\n",
    "        if type(mass) != float:\n",
    "            raise TypeError(error['TE02'])\n",
    "        else:\n",
    "            self._mass = float(mass)       \n",
    "\n",
    "    def force_between(self, ball, scale = 6.6743 * 10**-11):\n",
    "        dist = np.linalg.norm(self._position-ball.position)\n",
    "        vector = ball.position - self._position\n",
    "        force = scale*self._mass*ball.mass/np.square(dist)\n",
    "        if vector[1] < 0:\n",
    "            try:\n",
    "                alpha_prime = vector[1]/vector[0] + np.pi\n",
    "            except:\n",
    "                return force*np.array((0,-1)), -force*np.array((0,-1))\n",
    "        else:\n",
    "            try:\n",
    "                alpha_prime = vector[1]/vector[0]\n",
    "            except:\n",
    "                return force*np.array((0,1)), -force*np.array((0,1))\n",
    "        force_vector = force*np.array((np.cos(np.arctan(alpha_prime)),np.sin(np.arctan(alpha_prime))))\n",
    "        return force_vector, -force_vector\n",
    "    \n",
    "def update(balls):\n",
    "    while True:\n",
    "        pass"
   ]
  },
  {
   "cell_type": "code",
   "execution_count": 8,
   "metadata": {},
   "outputs": [],
   "source": [
    "ball1 = ball((0,0),(0,0),1)\n",
    "ball2 = ball((10,10),(0,0),1)\n",
    "ball3 = ball((10,0),(0,0),1)\n",
    "ball4 = ball((0,10),(0,0),1)\n",
    "\n",
    "balls = [ball1, ball2, ball3, ball4]\n",
    "\n",
    "scale = 1\n",
    "time_step = 0.1"
   ]
  },
  {
   "cell_type": "code",
   "execution_count": 10,
   "metadata": {},
   "outputs": [],
   "source": [
    "forces = [[] for _ in range(len(balls))]\n",
    "\n",
    "for ball in range(len(balls)):\n",
    "    for other_ball in range(ball+1,len(balls)):\n",
    "        force_ball, force_other_ball = balls[ball].force_between(balls[other_ball], scale)\n",
    "        forces[ball].append(force_ball)\n",
    "        forces[other_ball].append(force_other_ball)"
   ]
  },
  {
   "cell_type": "code",
   "execution_count": 12,
   "metadata": {},
   "outputs": [],
   "source": [
    "forces =[sum(force) for force in forces]"
   ]
  },
  {
   "cell_type": "code",
   "execution_count": 13,
   "metadata": {},
   "outputs": [
    {
     "data": {
      "text/plain": [
       "[array([0.01353553, 0.01353553]),\n",
       " array([ 0.00646447, -0.01353553]),\n",
       " array([-0.00646447,  0.00646447]),\n",
       " array([-0.01353553, -0.00646447])]"
      ]
     },
     "execution_count": 13,
     "metadata": {},
     "output_type": "execute_result"
    }
   ],
   "source": [
    "forces"
   ]
  }
 ],
 "metadata": {
  "kernelspec": {
   "display_name": "Python 3.9.7 64-bit",
   "language": "python",
   "name": "python3"
  },
  "language_info": {
   "codemirror_mode": {
    "name": "ipython",
    "version": 3
   },
   "file_extension": ".py",
   "mimetype": "text/x-python",
   "name": "python",
   "nbconvert_exporter": "python",
   "pygments_lexer": "ipython3",
   "version": "3.9.7"
  },
  "orig_nbformat": 4,
  "vscode": {
   "interpreter": {
    "hash": "e17eab0df9e3307548a5c6f41d73e01b4dc6a359441bcee24f0d97b016c3af62"
   }
  }
 },
 "nbformat": 4,
 "nbformat_minor": 2
}
